{
 "cells": [
  {
   "cell_type": "code",
   "execution_count": 1,
   "metadata": {},
   "outputs": [],
   "source": [
    "# avoid non-compliant Type 3 fonts\n",
    "import matplotlib\n",
    "matplotlib.rcParams['pdf.fonttype'] = 42"
   ]
  },
  {
   "cell_type": "code",
   "execution_count": 2,
   "metadata": {},
   "outputs": [],
   "source": [
    "import os\n",
    "\n",
    "import matplotlib.pyplot as plt\n",
    "import numpy as np\n",
    "import torch\n",
    "import torch.backends.cudnn as cudnn\n",
    "import torchvision.transforms as transforms\n",
    "from munch import Munch\n",
    "from tqdm import tqdm_notebook as tqdm\n",
    "\n",
    "import datasets\n",
    "import models\n",
    "from pose_estimation import models as pose_models\n",
    "from pose_estimation import utils as pose_utils\n",
    "from segmentation import models as segm_models"
   ]
  },
  {
   "cell_type": "code",
   "execution_count": 3,
   "metadata": {},
   "outputs": [],
   "source": [
    "data_root = 'data/OilChangeDataset'\n",
    "ann_file = '20171103_OilChange.json'\n",
    "camera_name = 'floating_kinect1'\n",
    "cache_dir = 'cache/eval/'\n",
    "segm_config_path = 'segmentation/pretrained/drn_d_22_OilChange/config.yml'\n",
    "pose_config_path = 'pose_estimation/pretrained/floating_kinect1_mask/config.yml'\n",
    "#pose_config_path = 'pose_estimation/pretrained/floating_kinect1_mask_with_occlusion/config.yml'"
   ]
  },
  {
   "cell_type": "code",
   "execution_count": 4,
   "metadata": {},
   "outputs": [],
   "source": [
    "with open(segm_config_path, 'r') as f:\n",
    "    segm_cfg = Munch.fromYAML(f)\n",
    "    segm_cfg.training.resume = os.path.join('segmentation', segm_cfg.training.resume)\n",
    "with open(pose_config_path, 'r') as f:\n",
    "    pose_cfg = Munch.fromYAML(f)\n",
    "    pose_cfg.training.resume = os.path.join('pose_estimation', pose_cfg.training.resume)"
   ]
  },
  {
   "cell_type": "code",
   "execution_count": 5,
   "metadata": {},
   "outputs": [],
   "source": [
    "cudnn.benchmark = True"
   ]
  },
  {
   "cell_type": "code",
   "execution_count": 6,
   "metadata": {},
   "outputs": [
    {
     "name": "stdout",
     "output_type": "stream",
     "text": [
      "=> loaded checkpoint 'segmentation/pretrained/drn_d_22_OilChange/checkpoint_00000900.pth.tar' (epoch 900)\n"
     ]
    }
   ],
   "source": [
    "segm_model = segm_models.DRNSeg(segm_cfg.arch, segm_cfg.data.classes, None, pretrained=True)\n",
    "segm_model = torch.nn.DataParallel(segm_model).cuda()\n",
    "segm_checkpoint = torch.load(segm_cfg.training.resume)\n",
    "segm_model.load_state_dict(segm_checkpoint['state_dict'])\n",
    "print(\"=> loaded checkpoint '{}' (epoch {})\".format(segm_cfg.training.resume, segm_checkpoint['epoch']))"
   ]
  },
  {
   "cell_type": "code",
   "execution_count": 7,
   "metadata": {},
   "outputs": [
    {
     "name": "stdout",
     "output_type": "stream",
     "text": [
      "=> loaded checkpoint 'pose_estimation/pretrained/floating_kinect1_mask/checkpoint_00002100.pth.tar' (epoch 2100)\n"
     ]
    }
   ],
   "source": [
    "pose_model = pose_models.Model(pose_cfg.arch)\n",
    "pose_model = torch.nn.DataParallel(pose_model).cuda()\n",
    "pose_checkpoint = torch.load(pose_cfg.training.resume)\n",
    "pose_model.load_state_dict(pose_checkpoint['state_dict'])\n",
    "print(\"=> loaded checkpoint '{}' (epoch {})\".format(pose_cfg.training.resume, pose_checkpoint['epoch']))"
   ]
  },
  {
   "cell_type": "code",
   "execution_count": 8,
   "metadata": {},
   "outputs": [
    {
     "name": "stdout",
     "output_type": "stream",
     "text": [
      "loading annotations into memory...\n",
      "Done (t=0.08s)\n",
      "creating index...\n",
      "index created!\n",
      "using camera: floating_kinect1\n"
     ]
    }
   ],
   "source": [
    "transform = transforms.ToTensor()\n",
    "val_dataset = datasets.EvalDataset(data_root, 'val_' + ann_file, camera_name, pose_cfg.data.objects, transform)\n",
    "val_loader = torch.utils.data.DataLoader(val_dataset, batch_size=1, shuffle=True, num_workers=0, pin_memory=True)"
   ]
  },
  {
   "cell_type": "code",
   "execution_count": 9,
   "metadata": {},
   "outputs": [],
   "source": [
    "model = models.EndToEndEvalModel(segm_model, pose_model).cuda()\n",
    "model.eval();"
   ]
  },
  {
   "cell_type": "code",
   "execution_count": 10,
   "metadata": {},
   "outputs": [],
   "source": [
    "def forward_batch(model, input, target, object_index, object_id):\n",
    "    target = target.cuda(non_blocking=True)\n",
    "    object_index = object_index.cuda(non_blocking=True)\n",
    "    object_id = object_id.cuda(non_blocking=True)\n",
    "\n",
    "    position, orientation = model(input, object_index, object_id)\n",
    "    position_error = (target[:, :3] - position).pow(2).sum(dim=1).sqrt()\n",
    "    orientation_error = 180.0 / np.pi * pose_utils.batch_rotation_angle(target[:, 3:], orientation)\n",
    "    \n",
    "    return position_error.cpu().numpy(), orientation_error.cpu().numpy()"
   ]
  },
  {
   "cell_type": "code",
   "execution_count": 11,
   "metadata": {},
   "outputs": [
    {
     "name": "stderr",
     "output_type": "stream",
     "text": [
      "/home/rene/miniconda3/envs/robotics/lib/python3.6/site-packages/ipykernel_launcher.py:4: TqdmDeprecationWarning: This function will be removed in tqdm==5.0.0\n",
      "Please use `tqdm.notebook.tqdm` instead of `tqdm.tqdm_notebook`\n",
      "  after removing the cwd from sys.path.\n"
     ]
    },
    {
     "data": {
      "application/vnd.jupyter.widget-view+json": {
       "model_id": "8518eb0774dd4ab290bef4d07e4fb15c",
       "version_major": 2,
       "version_minor": 0
      },
      "text/plain": [
       "  0%|          | 0/683 [00:00<?, ?it/s]"
      ]
     },
     "metadata": {},
     "output_type": "display_data"
    }
   ],
   "source": [
    "position_errors = []\n",
    "orientation_errors = []\n",
    "with torch.no_grad():\n",
    "    for input, target, object_index, object_id in tqdm(val_loader):\n",
    "        position_error, orientation_error = forward_batch(model, input, target, object_index, object_id)\n",
    "        position_errors.extend(position_error)\n",
    "        orientation_errors.extend(orientation_error)\n",
    "position_errors = 100.0 * np.array(position_errors)\n",
    "orientation_errors = np.array(orientation_errors)"
   ]
  },
  {
   "cell_type": "code",
   "execution_count": 12,
   "metadata": {},
   "outputs": [
    {
     "name": "stdout",
     "output_type": "stream",
     "text": [
      "mean position error: 3.76\n",
      "mean orientation error: 19.62\n",
      "median position error: 3.24\n",
      "median orientation error: 6.14\n",
      "success: 71.01\n"
     ]
    }
   ],
   "source": [
    "print('mean position error: {:.2f}'.format(position_errors.mean()))\n",
    "print('mean orientation error: {:.2f}'.format(orientation_errors.mean()))\n",
    "print('median position error: {:.2f}'.format(np.median(position_errors)))\n",
    "print('median orientation error: {:.2f}'.format(np.median(orientation_errors)))\n",
    "success = (position_errors < 5) * (orientation_errors < 15)\n",
    "print('success: {:.2f}'.format(100.0 * sum(success) / len(position_errors)))"
   ]
  },
  {
   "cell_type": "code",
   "execution_count": 13,
   "metadata": {},
   "outputs": [],
   "source": [
    "if not os.path.exists(cache_dir):\n",
    "    os.makedirs(cache_dir)\n",
    "cache_path = os.path.join(cache_dir, '{}.npy'.format(pose_cfg.training.experiment_name))\n",
    "np.save(cache_path, (position_errors, orientation_errors))"
   ]
  },
  {
   "cell_type": "code",
   "execution_count": 14,
   "metadata": {},
   "outputs": [
    {
     "data": {
      "image/png": "[encoded data removed]",
      "text/plain": [
       "<Figure size 432x216 with 1 Axes>"
      ]
     },
     "metadata": {
      "needs_background": "light"
     },
     "output_type": "display_data"
    }
   ],
   "source": [
    "fig = plt.figure(figsize=(6, 3))\n",
    "ax = fig.add_subplot(111)\n",
    "ax.spines['top'].set_visible(False)\n",
    "ax.spines['right'].set_visible(False)\n",
    "ax.tick_params(axis='both', which='major', labelsize=12)\n",
    "ax.tick_params(axis='both', which='minor', labelsize=12)\n",
    "plt.hist(position_errors, bins=np.arange(40 + 1), density=True, rwidth=0.8, color='gray')\n",
    "plt.axvline(x=5, ls='--', lw=2, c='r')\n",
    "plt.xlabel('position error (cm)', fontsize=14)\n",
    "plt.ylabel('fraction of instances', fontsize=14)\n",
    "plt.xlim(0, 40)\n",
    "plt.savefig('figures/errors_position.pdf', bbox_inches='tight')"
   ]
  },
  {
   "cell_type": "code",
   "execution_count": 15,
   "metadata": {},
   "outputs": [
    {
     "data": {
      "image/png": "[encoded data removed]",
      "text/plain": [
       "<Figure size 432x216 with 1 Axes>"
      ]
     },
     "metadata": {
      "needs_background": "light"
     },
     "output_type": "display_data"
    }
   ],
   "source": [
    "fig = plt.figure(figsize=(6, 3))\n",
    "ax = fig.add_subplot(111)\n",
    "ax.spines['top'].set_visible(False)\n",
    "ax.spines['right'].set_visible(False)\n",
    "ax.tick_params(axis='both', which='major', labelsize=12)\n",
    "ax.tick_params(axis='both', which='minor', labelsize=12)\n",
    "plt.hist(orientation_errors, bins=np.arange(0, 180 + 1, 5), density=True, rwidth=0.8, color='gray')\n",
    "plt.axvline(x=15, ls='--', lw=2, c='r')\n",
    "plt.xlabel('orientation error (degrees)', fontsize=14)\n",
    "plt.ylabel('fraction of instances', fontsize=14)\n",
    "plt.xlim(0, 180)\n",
    "plt.ylim(0, 0.08)\n",
    "plt.savefig('figures/errors_orientation.pdf', bbox_inches='tight')"
   ]
  },
  {
   "cell_type": "code",
   "execution_count": 17,
   "metadata": {},
   "outputs": [],
   "source": [
    "# comparison of orientation errors for models trained with and without occlusion\n",
    "cache_path_wo_occlusion = os.path.join(cache_dir, '{}.npy'.format('floating_kinect1_mask'))\n",
    "cache_path_with_occlusion = os.path.join(cache_dir, '{}.npy'.format('floating_kinect1_mask_with_occlusion'))\n",
    "position_errors_wo_occlusion, orientation_errors_wo_occlusion = np.load(cache_path_wo_occlusion)\n",
    "#position_errors_with_occlusion, orientation_errors_with_occlusion = np.load(cache_path_with_occlusion)"
   ]
  },
  {
   "cell_type": "code",
   "execution_count": 20,
   "metadata": {},
   "outputs": [
    {
     "data": {
      "image/png": "[encoded data removed]",
      "text/plain": [
       "<Figure size 432x216 with 1 Axes>"
      ]
     },
     "metadata": {
      "needs_background": "light"
     },
     "output_type": "display_data"
    }
   ],
   "source": [
    "fig = plt.figure(figsize=(6, 3))\n",
    "ax = fig.add_subplot(111)\n",
    "ax.spines['top'].set_visible(False)\n",
    "ax.spines['right'].set_visible(False)\n",
    "ax.tick_params(axis='both', which='major', labelsize=12)\n",
    "ax.tick_params(axis='both', which='minor', labelsize=12)\n",
    "plt.hist(position_errors_wo_occlusion, bins=np.arange(40 + 1),\n",
    "         density=True, rwidth=0.8, alpha=0.5, label='trained without occlusion', color='dimgray')\n",
    "# plt.hist(position_errors_with_occlusion, bins=np.arange(40 + 1),\n",
    "#          density=True, rwidth=0.8, alpha=0.5, label='trained with occlusion', color='darkmagenta')\n",
    "plt.axvline(x=5, ls='--', lw=2, c='r')\n",
    "plt.xlabel('position error (cm)', fontsize=14)\n",
    "plt.ylabel('fraction of instances', fontsize=14)\n",
    "plt.xlim(0, 40)\n",
    "plt.legend()\n",
    "plt.savefig('figures/errors_position_with_occlusion.pdf', bbox_inches='tight')"
   ]
  },
  {
   "cell_type": "code",
   "execution_count": 22,
   "metadata": {},
   "outputs": [
    {
     "data": {
      "image/png": "[encoded data removed]",
      "text/plain": [
       "<Figure size 432x216 with 1 Axes>"
      ]
     },
     "metadata": {
      "needs_background": "light"
     },
     "output_type": "display_data"
    }
   ],
   "source": [
    "fig = plt.figure(figsize=(6, 3))\n",
    "ax = fig.add_subplot(111)\n",
    "ax.spines['top'].set_visible(False)\n",
    "ax.spines['right'].set_visible(False)\n",
    "ax.tick_params(axis='both', which='major', labelsize=12)\n",
    "ax.tick_params(axis='both', which='minor', labelsize=12)\n",
    "plt.hist(orientation_errors_wo_occlusion, bins=np.arange(0, 180 + 1, 5),\n",
    "         density=True, rwidth=0.8, alpha=0.5, label='trained without occlusion', color='dimgray')\n",
    "# plt.hist(orientation_errors_with_occlusion, bins=np.arange(0, 180 + 1, 5),\n",
    "#          density=True, rwidth=0.8, alpha=0.5, label='trained with occlusion', color='darkmagenta')\n",
    "plt.axvline(x=15, ls='--', lw=2, c='r')\n",
    "plt.xlabel('orientation error (degrees)', fontsize=14)\n",
    "plt.ylabel('fraction of instances', fontsize=14)\n",
    "plt.xlim(0, 180)\n",
    "plt.ylim(0, 0.08)\n",
    "plt.legend()\n",
    "plt.savefig('figures/errors_orientation_with_occlusion.pdf', bbox_inches='tight')"
   ]
  },
  {
   "cell_type": "code",
   "execution_count": null,
   "metadata": {},
   "outputs": [],
   "source": []
  }
 ],
 "metadata": {
  "kernelspec": {
   "display_name": "Python 3 (ipykernel)",
   "language": "python",
   "name": "python3"
  },
  "language_info": {
   "codemirror_mode": {
    "name": "ipython",
    "version": 3
   },
   "file_extension": ".py",
   "mimetype": "text/x-python",
   "name": "python",
   "nbconvert_exporter": "python",
   "pygments_lexer": "ipython3",
   "version": "3.6.13"
  }
 },
 "nbformat": 4,
 "nbformat_minor": 2
}
